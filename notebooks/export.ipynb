{
 "metadata": {
  "language_info": {
   "codemirror_mode": {
    "name": "ipython",
    "version": 3
   },
   "file_extension": ".py",
   "mimetype": "text/x-python",
   "name": "python",
   "nbconvert_exporter": "python",
   "pygments_lexer": "ipython3",
   "version": "3.9.1-final"
  },
  "orig_nbformat": 2,
  "kernelspec": {
   "name": "python3",
   "display_name": "Python 3.9.1 64-bit",
   "metadata": {
    "interpreter": {
     "hash": "e096f4ec2f86033eb39bbec3d81e97a9d09299ab4d5591217ee059f7bf7b671e"
    }
   }
  }
 },
 "nbformat": 4,
 "nbformat_minor": 2,
 "cells": [
  {
   "cell_type": "code",
   "execution_count": 1,
   "metadata": {},
   "outputs": [
    {
     "output_type": "stream",
     "name": "stdout",
     "text": [
      "PyTables is not installed. No support for HDF output.\nSQLalchemy is not installed. No support for SQL output.\n"
     ]
    }
   ],
   "source": [
    "from simpledbf import Dbf5\n",
    "import pandas as pd"
   ]
  },
  {
   "cell_type": "code",
   "execution_count": 2,
   "metadata": {},
   "outputs": [
    {
     "output_type": "execute_result",
     "data": {
      "text/plain": [
       "   D_EVENT_ID D_SEC_NUM D_PAIR_NUM  D_MEM_ID                 D_NAME  D_STATE  \\\n",
       "0         NaN         1          1  17200396       Johnson, Anthony      NaN   \n",
       "1         NaN         1          2  15173194  Ambethkar, Hari Rakul      NaN   \n",
       "2         NaN         1          3  17246131  Chang, Daniel Donggun      NaN   \n",
       "3         NaN         1          4  16910993          Sharma, Arnav      NaN   \n",
       "\n",
       "  D_RATING D_RND01 D_RND02  \n",
       "0        0     W3W     L2B  \n",
       "1        0     W4B     W1W  \n",
       "2        0     L1B     W4W  \n",
       "3        0     L2W     L3B  "
      ],
      "text/html": "<div>\n<style scoped>\n    .dataframe tbody tr th:only-of-type {\n        vertical-align: middle;\n    }\n\n    .dataframe tbody tr th {\n        vertical-align: top;\n    }\n\n    .dataframe thead th {\n        text-align: right;\n    }\n</style>\n<table border=\"1\" class=\"dataframe\">\n  <thead>\n    <tr style=\"text-align: right;\">\n      <th></th>\n      <th>D_EVENT_ID</th>\n      <th>D_SEC_NUM</th>\n      <th>D_PAIR_NUM</th>\n      <th>D_MEM_ID</th>\n      <th>D_NAME</th>\n      <th>D_STATE</th>\n      <th>D_RATING</th>\n      <th>D_RND01</th>\n      <th>D_RND02</th>\n    </tr>\n  </thead>\n  <tbody>\n    <tr>\n      <th>0</th>\n      <td>NaN</td>\n      <td>1</td>\n      <td>1</td>\n      <td>17200396</td>\n      <td>Johnson, Anthony</td>\n      <td>NaN</td>\n      <td>0</td>\n      <td>W3W</td>\n      <td>L2B</td>\n    </tr>\n    <tr>\n      <th>1</th>\n      <td>NaN</td>\n      <td>1</td>\n      <td>2</td>\n      <td>15173194</td>\n      <td>Ambethkar, Hari Rakul</td>\n      <td>NaN</td>\n      <td>0</td>\n      <td>W4B</td>\n      <td>W1W</td>\n    </tr>\n    <tr>\n      <th>2</th>\n      <td>NaN</td>\n      <td>1</td>\n      <td>3</td>\n      <td>17246131</td>\n      <td>Chang, Daniel Donggun</td>\n      <td>NaN</td>\n      <td>0</td>\n      <td>L1B</td>\n      <td>W4W</td>\n    </tr>\n    <tr>\n      <th>3</th>\n      <td>NaN</td>\n      <td>1</td>\n      <td>4</td>\n      <td>16910993</td>\n      <td>Sharma, Arnav</td>\n      <td>NaN</td>\n      <td>0</td>\n      <td>L2W</td>\n      <td>L3B</td>\n    </tr>\n  </tbody>\n</table>\n</div>"
     },
     "metadata": {},
     "execution_count": 2
    }
   ],
   "source": [
    "tdexport = Dbf5(r'..\\databases\\tdexport.dbf', codec='utf-8')\n",
    "tdexport.to_dataframe()"
   ]
  },
  {
   "cell_type": "code",
   "execution_count": 3,
   "metadata": {},
   "outputs": [
    {
     "output_type": "execute_result",
     "data": {
      "text/plain": [
       "   S_EVENT_ID S_SEC_NUM S_SEC_NAME S_R_SYSTEM S_TIMECTL  S_CTD_ID  S_ATD_ID  \\\n",
       "0         NaN         1     Fooler          R   G/30;d5  15173194       NaN   \n",
       "\n",
       "  S_TRN_TYPE S_TOT_RNDS S_LST_PAIR S_BEG_DATE S_END_DATE  S_SCH_LVL S_GR_PRIX  \\\n",
       "0          S          2          4   20210216   20210216        NaN         N   \n",
       "\n",
       "   S_GP_PTS S_FIDE  \n",
       "0       NaN      N  "
      ],
      "text/html": "<div>\n<style scoped>\n    .dataframe tbody tr th:only-of-type {\n        vertical-align: middle;\n    }\n\n    .dataframe tbody tr th {\n        vertical-align: top;\n    }\n\n    .dataframe thead th {\n        text-align: right;\n    }\n</style>\n<table border=\"1\" class=\"dataframe\">\n  <thead>\n    <tr style=\"text-align: right;\">\n      <th></th>\n      <th>S_EVENT_ID</th>\n      <th>S_SEC_NUM</th>\n      <th>S_SEC_NAME</th>\n      <th>S_R_SYSTEM</th>\n      <th>S_TIMECTL</th>\n      <th>S_CTD_ID</th>\n      <th>S_ATD_ID</th>\n      <th>S_TRN_TYPE</th>\n      <th>S_TOT_RNDS</th>\n      <th>S_LST_PAIR</th>\n      <th>S_BEG_DATE</th>\n      <th>S_END_DATE</th>\n      <th>S_SCH_LVL</th>\n      <th>S_GR_PRIX</th>\n      <th>S_GP_PTS</th>\n      <th>S_FIDE</th>\n    </tr>\n  </thead>\n  <tbody>\n    <tr>\n      <th>0</th>\n      <td>NaN</td>\n      <td>1</td>\n      <td>Fooler</td>\n      <td>R</td>\n      <td>G/30;d5</td>\n      <td>15173194</td>\n      <td>NaN</td>\n      <td>S</td>\n      <td>2</td>\n      <td>4</td>\n      <td>20210216</td>\n      <td>20210216</td>\n      <td>NaN</td>\n      <td>N</td>\n      <td>NaN</td>\n      <td>N</td>\n    </tr>\n  </tbody>\n</table>\n</div>"
     },
     "metadata": {},
     "execution_count": 3
    }
   ],
   "source": [
    "tsexport = Dbf5(r'..\\databases\\tsexport.dbf', codec='utf-8')\n",
    "tsexport.to_dataframe()"
   ]
  },
  {
   "cell_type": "code",
   "execution_count": 4,
   "metadata": {},
   "outputs": [
    {
     "output_type": "execute_result",
     "data": {
      "text/plain": [
       "  H_FORMAT   H_PROGRAM  H_EVENT_ID          H_NAME H_TOT_SECT H_BEG_DATE  \\\n",
       "0       2C  SWISSSYS10         NaN  MYOPEN- Fooler          1   20210216   \n",
       "\n",
       "  H_END_DATE  H_AFF_ID  H_CITY H_STATE H_ZIPCODE      H_COUNTRY H_SENDCROS  \\\n",
       "0   20210216  A5013852  Folsom      CA     95630  United States          N   \n",
       "\n",
       "   H_CTD_ID  H_ATD_ID  H_OTHER_TD  \n",
       "0  15173194       NaN         NaN  "
      ],
      "text/html": "<div>\n<style scoped>\n    .dataframe tbody tr th:only-of-type {\n        vertical-align: middle;\n    }\n\n    .dataframe tbody tr th {\n        vertical-align: top;\n    }\n\n    .dataframe thead th {\n        text-align: right;\n    }\n</style>\n<table border=\"1\" class=\"dataframe\">\n  <thead>\n    <tr style=\"text-align: right;\">\n      <th></th>\n      <th>H_FORMAT</th>\n      <th>H_PROGRAM</th>\n      <th>H_EVENT_ID</th>\n      <th>H_NAME</th>\n      <th>H_TOT_SECT</th>\n      <th>H_BEG_DATE</th>\n      <th>H_END_DATE</th>\n      <th>H_AFF_ID</th>\n      <th>H_CITY</th>\n      <th>H_STATE</th>\n      <th>H_ZIPCODE</th>\n      <th>H_COUNTRY</th>\n      <th>H_SENDCROS</th>\n      <th>H_CTD_ID</th>\n      <th>H_ATD_ID</th>\n      <th>H_OTHER_TD</th>\n    </tr>\n  </thead>\n  <tbody>\n    <tr>\n      <th>0</th>\n      <td>2C</td>\n      <td>SWISSSYS10</td>\n      <td>NaN</td>\n      <td>MYOPEN- Fooler</td>\n      <td>1</td>\n      <td>20210216</td>\n      <td>20210216</td>\n      <td>A5013852</td>\n      <td>Folsom</td>\n      <td>CA</td>\n      <td>95630</td>\n      <td>United States</td>\n      <td>N</td>\n      <td>15173194</td>\n      <td>NaN</td>\n      <td>NaN</td>\n    </tr>\n  </tbody>\n</table>\n</div>"
     },
     "metadata": {},
     "execution_count": 4
    }
   ],
   "source": [
    "thexport = Dbf5(r'..\\databases\\thexport.dbf', codec='utf-8')\n",
    "thexport.to_dataframe()"
   ]
  },
  {
   "cell_type": "code",
   "execution_count": null,
   "metadata": {},
   "outputs": [],
   "source": []
  }
 ]
}