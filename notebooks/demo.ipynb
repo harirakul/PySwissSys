{
 "metadata": {
  "language_info": {
   "codemirror_mode": {
    "name": "ipython",
    "version": 3
   },
   "file_extension": ".py",
   "mimetype": "text/x-python",
   "name": "python",
   "nbconvert_exporter": "python",
   "pygments_lexer": "ipython3",
   "version": "3.9.1-final"
  },
  "orig_nbformat": 2,
  "kernelspec": {
   "name": "python3",
   "display_name": "Python 3.9.1 64-bit",
   "metadata": {
    "interpreter": {
     "hash": "e096f4ec2f86033eb39bbec3d81e97a9d09299ab4d5591217ee059f7bf7b671e"
    }
   }
  }
 },
 "nbformat": 4,
 "nbformat_minor": 2,
 "cells": [
  {
   "cell_type": "code",
   "execution_count": 1,
   "metadata": {},
   "outputs": [],
   "source": [
    "import sys\n",
    "sys.path.insert(0,'..\\PySwissSys')\n",
    "\n",
    "import td\n",
    "import random"
   ]
  },
  {
   "cell_type": "code",
   "execution_count": 2,
   "metadata": {},
   "outputs": [
    {
     "output_type": "execute_result",
     "data": {
      "text/plain": [
       "  name  rating  score\n",
       "1    B    2731      0\n",
       "2    F    2269      0\n",
       "3    G    2161      0\n",
       "4    H    2096      0\n",
       "5    C    1795      0\n",
       "6    A    1305      0\n",
       "7    E    1217      0\n",
       "8    D    1171      0"
      ],
      "text/html": "<div>\n<style scoped>\n    .dataframe tbody tr th:only-of-type {\n        vertical-align: middle;\n    }\n\n    .dataframe tbody tr th {\n        vertical-align: top;\n    }\n\n    .dataframe thead th {\n        text-align: right;\n    }\n</style>\n<table border=\"1\" class=\"dataframe\">\n  <thead>\n    <tr style=\"text-align: right;\">\n      <th></th>\n      <th>name</th>\n      <th>rating</th>\n      <th>score</th>\n    </tr>\n  </thead>\n  <tbody>\n    <tr>\n      <th>1</th>\n      <td>B</td>\n      <td>2731</td>\n      <td>0</td>\n    </tr>\n    <tr>\n      <th>2</th>\n      <td>F</td>\n      <td>2269</td>\n      <td>0</td>\n    </tr>\n    <tr>\n      <th>3</th>\n      <td>G</td>\n      <td>2161</td>\n      <td>0</td>\n    </tr>\n    <tr>\n      <th>4</th>\n      <td>H</td>\n      <td>2096</td>\n      <td>0</td>\n    </tr>\n    <tr>\n      <th>5</th>\n      <td>C</td>\n      <td>1795</td>\n      <td>0</td>\n    </tr>\n    <tr>\n      <th>6</th>\n      <td>A</td>\n      <td>1305</td>\n      <td>0</td>\n    </tr>\n    <tr>\n      <th>7</th>\n      <td>E</td>\n      <td>1217</td>\n      <td>0</td>\n    </tr>\n    <tr>\n      <th>8</th>\n      <td>D</td>\n      <td>1171</td>\n      <td>0</td>\n    </tr>\n  </tbody>\n</table>\n</div>"
     },
     "metadata": {},
     "execution_count": 2
    }
   ],
   "source": [
    "t = td.Tournament()\n",
    "players = list('ABCDEFGH')\n",
    "\n",
    "for i in range(len(players)):\n",
    "    p = td.Player(players[i], random.randint(1000, 2900))\n",
    "    t.add_player(p)\n",
    "\n",
    "t.table"
   ]
  },
  {
   "cell_type": "code",
   "execution_count": 3,
   "metadata": {},
   "outputs": [
    {
     "output_type": "stream",
     "name": "stdout",
     "text": [
      "=================TOURNAMENT================\n=================ROUND 1==================\n  name  rating  score\n1    B    2731      0\n2    F    2269      0\n3    G    2161      0\n4    H    2096      0\n5    C    1795      0\n6    A    1305      0\n7    E    1217      0\n8    D    1171      0\n=================ROUND 2==================\n  name  rating  score\n1    B    2731      1\n2    F    2269      1\n3    G    2161      1\n4    H    2096      1\n5    C    1795      0\n6    A    1305      0\n7    E    1217      0\n8    D    1171      0\n=================ROUND 3==================\n  name  rating  score\n1    B    2731      2\n2    F    2269      2\n3    G    2161      1\n4    H    2096      1\n5    C    1795      1\n6    A    1305      1\n7    E    1217      0\n8    D    1171      0\n=================ROUND 4==================\n  name  rating  score\n1    B    2731      3\n2    F    2269      2\n3    G    2161      2\n4    H    2096      2\n5    C    1795      1\n6    A    1305      1\n7    E    1217      1\n8    D    1171      0\n"
     ]
    }
   ],
   "source": [
    "print(\"=================TOURNAMENT================\")\n",
    "\n",
    "for i in range(1, 5):\n",
    "    print(f\"=================ROUND {i}==================\")\n",
    "    t.pair()\n",
    "    results = []\n",
    "    for pairing in t.pairings:\n",
    "        if pairing[0].rating > pairing[1].rating:\n",
    "            results.append(1)\n",
    "        else: results.append(0)\n",
    "    t.record_results(results)\n",
    "    print(t.table)"
   ]
  },
  {
   "cell_type": "code",
   "execution_count": null,
   "metadata": {},
   "outputs": [],
   "source": []
  }
 ]
}